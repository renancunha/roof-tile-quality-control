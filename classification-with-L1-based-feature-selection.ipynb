{
 "cells": [
  {
   "cell_type": "markdown",
   "metadata": {},
   "source": [
    "Import libraries:"
   ]
  },
  {
   "cell_type": "code",
   "execution_count": 67,
   "metadata": {
    "collapsed": true,
    "scrolled": true
   },
   "outputs": [],
   "source": [
    "import pandas as pd\n",
    "import numpy as np\n",
    "from sklearn.svm import LinearSVC\n",
    "from sklearn.feature_selection import SelectFromModel\n",
    "from pandas.tools.plotting import scatter_matrix\n",
    "import matplotlib.pyplot as plt\n",
    "from sklearn import model_selection\n",
    "from sklearn.metrics import classification_report\n",
    "from sklearn.metrics import confusion_matrix\n",
    "from sklearn.metrics import accuracy_score\n",
    "from sklearn.linear_model import LogisticRegression\n",
    "from sklearn.tree import DecisionTreeClassifier\n",
    "from sklearn.neighbors import KNeighborsClassifier\n",
    "from sklearn.discriminant_analysis import LinearDiscriminantAnalysis\n",
    "from sklearn.naive_bayes import GaussianNB\n",
    "from sklearn.svm import SVC"
   ]
  },
  {
   "cell_type": "markdown",
   "metadata": {},
   "source": [
    "### Dataset\n",
    "This dataset contains audio features (36 features) extracted from 280 samples. For each feature, we have 6 statistics (mean, median, std, std by mean, max and min.\n",
    "\n",
    "So, we expect a 280x(216+1) matrix, where the last column is the \"label\" (1 = good roof-tile or 2 = roof-tile with problems)."
   ]
  },
  {
   "cell_type": "code",
   "execution_count": 68,
   "metadata": {
    "scrolled": false
   },
   "outputs": [
    {
     "data": {
      "text/plain": [
       "(280, 217)"
      ]
     },
     "execution_count": 68,
     "metadata": {},
     "output_type": "execute_result"
    }
   ],
   "source": [
    "dt = pd.read_csv(\"dataset.csv\")\n",
    "dt.shape"
   ]
  },
  {
   "cell_type": "markdown",
   "metadata": {},
   "source": [
    "Lets see how our data looks like:"
   ]
  },
  {
   "cell_type": "code",
   "execution_count": 69,
   "metadata": {},
   "outputs": [
    {
     "data": {
      "text/html": [
       "<div>\n",
       "<style>\n",
       "    .dataframe thead tr:only-child th {\n",
       "        text-align: right;\n",
       "    }\n",
       "\n",
       "    .dataframe thead th {\n",
       "        text-align: left;\n",
       "    }\n",
       "\n",
       "    .dataframe tbody tr th {\n",
       "        vertical-align: top;\n",
       "    }\n",
       "</style>\n",
       "<table border=\"1\" class=\"dataframe\">\n",
       "  <thead>\n",
       "    <tr style=\"text-align: right;\">\n",
       "      <th></th>\n",
       "      <th>t_zcr_mean</th>\n",
       "      <th>t_zcr_median</th>\n",
       "      <th>t_zcr_std</th>\n",
       "      <th>t_zcr_stdbymean</th>\n",
       "      <th>t_zcr_max</th>\n",
       "      <th>t_zcr_min</th>\n",
       "      <th>t_energy_mean</th>\n",
       "      <th>t_energy_median</th>\n",
       "      <th>t_energy_std</th>\n",
       "      <th>t_energy_stdbymean</th>\n",
       "      <th>...</th>\n",
       "      <th>f_chrvec12_stdbymean</th>\n",
       "      <th>f_chrvec12_max</th>\n",
       "      <th>f_chrvec12_min</th>\n",
       "      <th>f_persistence_mean</th>\n",
       "      <th>f_persistence_median</th>\n",
       "      <th>f_persistence_std</th>\n",
       "      <th>f_persistence_stdbymean</th>\n",
       "      <th>f_persistence_max</th>\n",
       "      <th>f_persistence_min</th>\n",
       "      <th>label</th>\n",
       "    </tr>\n",
       "  </thead>\n",
       "  <tbody>\n",
       "    <tr>\n",
       "      <th>0</th>\n",
       "      <td>0.047869</td>\n",
       "      <td>0.005975</td>\n",
       "      <td>1.5104</td>\n",
       "      <td>0.145490</td>\n",
       "      <td>0.14635</td>\n",
       "      <td>0.90982</td>\n",
       "      <td>0.005272</td>\n",
       "      <td>0.143860</td>\n",
       "      <td>-30.571</td>\n",
       "      <td>-8.2801</td>\n",
       "      <td>...</td>\n",
       "      <td>0.0</td>\n",
       "      <td>0.0</td>\n",
       "      <td>0</td>\n",
       "      <td>0.0000</td>\n",
       "      <td>0</td>\n",
       "      <td>0.0</td>\n",
       "      <td>0.0000</td>\n",
       "      <td>0.0</td>\n",
       "      <td>49.400</td>\n",
       "      <td>1</td>\n",
       "    </tr>\n",
       "    <tr>\n",
       "      <th>1</th>\n",
       "      <td>0.053551</td>\n",
       "      <td>0.004888</td>\n",
       "      <td>1.6245</td>\n",
       "      <td>0.146940</td>\n",
       "      <td>0.14312</td>\n",
       "      <td>0.96656</td>\n",
       "      <td>0.005142</td>\n",
       "      <td>0.158980</td>\n",
       "      <td>-30.124</td>\n",
       "      <td>-8.3968</td>\n",
       "      <td>...</td>\n",
       "      <td>0.0</td>\n",
       "      <td>0.0</td>\n",
       "      <td>0</td>\n",
       "      <td>0.0000</td>\n",
       "      <td>0</td>\n",
       "      <td>0.0</td>\n",
       "      <td>0.0000</td>\n",
       "      <td>0.0</td>\n",
       "      <td>88.878</td>\n",
       "      <td>1</td>\n",
       "    </tr>\n",
       "    <tr>\n",
       "      <th>2</th>\n",
       "      <td>0.040000</td>\n",
       "      <td>0.007517</td>\n",
       "      <td>1.4857</td>\n",
       "      <td>0.087087</td>\n",
       "      <td>0.10073</td>\n",
       "      <td>0.41488</td>\n",
       "      <td>0.007266</td>\n",
       "      <td>0.067500</td>\n",
       "      <td>-23.242</td>\n",
       "      <td>-6.7864</td>\n",
       "      <td>...</td>\n",
       "      <td>0.0</td>\n",
       "      <td>0.0</td>\n",
       "      <td>0</td>\n",
       "      <td>1.6896</td>\n",
       "      <td>0</td>\n",
       "      <td>0.0</td>\n",
       "      <td>2.1297</td>\n",
       "      <td>0.0</td>\n",
       "      <td>98.378</td>\n",
       "      <td>1</td>\n",
       "    </tr>\n",
       "    <tr>\n",
       "      <th>3</th>\n",
       "      <td>0.041080</td>\n",
       "      <td>0.010570</td>\n",
       "      <td>1.7121</td>\n",
       "      <td>0.129320</td>\n",
       "      <td>0.14035</td>\n",
       "      <td>0.68629</td>\n",
       "      <td>0.007476</td>\n",
       "      <td>0.114770</td>\n",
       "      <td>-30.336</td>\n",
       "      <td>-8.4624</td>\n",
       "      <td>...</td>\n",
       "      <td>0.0</td>\n",
       "      <td>0.0</td>\n",
       "      <td>0</td>\n",
       "      <td>0.0000</td>\n",
       "      <td>0</td>\n",
       "      <td>0.0</td>\n",
       "      <td>2.5871</td>\n",
       "      <td>0.0</td>\n",
       "      <td>100.020</td>\n",
       "      <td>1</td>\n",
       "    </tr>\n",
       "    <tr>\n",
       "      <th>4</th>\n",
       "      <td>0.040909</td>\n",
       "      <td>0.012872</td>\n",
       "      <td>1.8787</td>\n",
       "      <td>0.135330</td>\n",
       "      <td>0.15745</td>\n",
       "      <td>0.53158</td>\n",
       "      <td>0.010323</td>\n",
       "      <td>0.098977</td>\n",
       "      <td>-34.642</td>\n",
       "      <td>-9.3728</td>\n",
       "      <td>...</td>\n",
       "      <td>0.0</td>\n",
       "      <td>0.0</td>\n",
       "      <td>0</td>\n",
       "      <td>0.0000</td>\n",
       "      <td>0</td>\n",
       "      <td>0.0</td>\n",
       "      <td>0.0000</td>\n",
       "      <td>0.0</td>\n",
       "      <td>147.750</td>\n",
       "      <td>1</td>\n",
       "    </tr>\n",
       "  </tbody>\n",
       "</table>\n",
       "<p>5 rows × 217 columns</p>\n",
       "</div>"
      ],
      "text/plain": [
       "   t_zcr_mean  t_zcr_median  t_zcr_std  t_zcr_stdbymean  t_zcr_max  t_zcr_min  \\\n",
       "0    0.047869      0.005975     1.5104         0.145490    0.14635    0.90982   \n",
       "1    0.053551      0.004888     1.6245         0.146940    0.14312    0.96656   \n",
       "2    0.040000      0.007517     1.4857         0.087087    0.10073    0.41488   \n",
       "3    0.041080      0.010570     1.7121         0.129320    0.14035    0.68629   \n",
       "4    0.040909      0.012872     1.8787         0.135330    0.15745    0.53158   \n",
       "\n",
       "   t_energy_mean  t_energy_median  t_energy_std  t_energy_stdbymean  ...    \\\n",
       "0       0.005272         0.143860       -30.571             -8.2801  ...     \n",
       "1       0.005142         0.158980       -30.124             -8.3968  ...     \n",
       "2       0.007266         0.067500       -23.242             -6.7864  ...     \n",
       "3       0.007476         0.114770       -30.336             -8.4624  ...     \n",
       "4       0.010323         0.098977       -34.642             -9.3728  ...     \n",
       "\n",
       "   f_chrvec12_stdbymean  f_chrvec12_max  f_chrvec12_min  f_persistence_mean  \\\n",
       "0                   0.0             0.0               0              0.0000   \n",
       "1                   0.0             0.0               0              0.0000   \n",
       "2                   0.0             0.0               0              1.6896   \n",
       "3                   0.0             0.0               0              0.0000   \n",
       "4                   0.0             0.0               0              0.0000   \n",
       "\n",
       "   f_persistence_median  f_persistence_std  f_persistence_stdbymean  \\\n",
       "0                     0                0.0                   0.0000   \n",
       "1                     0                0.0                   0.0000   \n",
       "2                     0                0.0                   2.1297   \n",
       "3                     0                0.0                   2.5871   \n",
       "4                     0                0.0                   0.0000   \n",
       "\n",
       "   f_persistence_max  f_persistence_min  label  \n",
       "0                0.0             49.400      1  \n",
       "1                0.0             88.878      1  \n",
       "2                0.0             98.378      1  \n",
       "3                0.0            100.020      1  \n",
       "4                0.0            147.750      1  \n",
       "\n",
       "[5 rows x 217 columns]"
      ]
     },
     "execution_count": 69,
     "metadata": {},
     "output_type": "execute_result"
    }
   ],
   "source": [
    "dt.head()"
   ]
  },
  {
   "cell_type": "markdown",
   "metadata": {},
   "source": [
    "Lets separate the data:\n",
    "\n",
    "X will be a matrix containing all features from all samples.\n",
    "\n",
    "Y will be a vector containing the labels of all observations."
   ]
  },
  {
   "cell_type": "code",
   "execution_count": 70,
   "metadata": {},
   "outputs": [
    {
     "data": {
      "text/plain": [
       "(280, 216)"
      ]
     },
     "execution_count": 70,
     "metadata": {},
     "output_type": "execute_result"
    }
   ],
   "source": [
    "array = dt.values\n",
    "X = array[:, 0:216]\n",
    "y = array[:, 216]\n",
    "X.shape"
   ]
  },
  {
   "cell_type": "markdown",
   "metadata": {},
   "source": [
    "Now, we need to make the data sets to train and to validate the models. The choosed proportion is: 70% to test and 30% to validate."
   ]
  },
  {
   "cell_type": "code",
   "execution_count": 71,
   "metadata": {},
   "outputs": [
    {
     "data": {
      "text/plain": [
       "(196, 216)"
      ]
     },
     "execution_count": 71,
     "metadata": {},
     "output_type": "execute_result"
    }
   ],
   "source": [
    "validation_size = 0.30\n",
    "seed = 7\n",
    "X_train, X_validation, y_train, y_validation = model_selection.train_test_split(X, y, test_size=validation_size, random_state=seed)\n",
    "X_train.shape"
   ]
  },
  {
   "cell_type": "markdown",
   "metadata": {},
   "source": [
    "### L1-based feature selection\n",
    "Our dataset contains a lot of features (216 to be more specific).\n",
    "\n",
    "Some features are collinear, so we can and we must to transform our data. To do that, I choosed to use a L1-based feature selection method.\n",
    "\n",
    "Its importante to say that smaller C implies in fewer features selected."
   ]
  },
  {
   "cell_type": "code",
   "execution_count": 72,
   "metadata": {},
   "outputs": [
    {
     "data": {
      "text/plain": [
       "(196, 11)"
      ]
     },
     "execution_count": 72,
     "metadata": {},
     "output_type": "execute_result"
    }
   ],
   "source": [
    "lsvc = LinearSVC(C=0.01, penalty=\"l1\", dual=False).fit(X_train, y_train)\n",
    "modellsvc = SelectFromModel(lsvc, prefit=True)\n",
    "X_train_new = modellsvc.transform(X_train)\n",
    "X_train_new.shape"
   ]
  },
  {
   "cell_type": "markdown",
   "metadata": {},
   "source": [
    "### Select a classifier\n",
    "We will evaluate six classifiers, to choose the best model to classify our validation data. The criteria to choose the best is the accuracy of the model on the train data.\n",
    "\n",
    "We use a cross-validation (k-fold with k = 10) to evaluate the models"
   ]
  },
  {
   "cell_type": "code",
   "execution_count": 73,
   "metadata": {
    "scrolled": true
   },
   "outputs": [
    {
     "name": "stdout",
     "output_type": "stream",
     "text": [
      "LR: 0.974737 (0.040482)\n",
      "LDA: 0.994737 (0.015789)\n",
      "KNN: 0.856579 (0.096757)\n",
      "CART: 0.959474 (0.049108)\n",
      "NB: 0.984474 (0.023727)\n",
      "SVM: 0.433684 (0.023265)\n"
     ]
    }
   ],
   "source": [
    "models = []\n",
    "models.append(('LR', LogisticRegression()))\n",
    "models.append(('LDA', LinearDiscriminantAnalysis()))\n",
    "models.append(('KNN', KNeighborsClassifier()))\n",
    "models.append(('CART', DecisionTreeClassifier()))\n",
    "models.append(('NB', GaussianNB()))\n",
    "models.append(('SVM', SVC()))\n",
    "\n",
    "scoring = 'accuracy'\n",
    "results = []\n",
    "names = []\n",
    "for name, model in models:\n",
    "\tkfold = model_selection.KFold(n_splits=10, random_state=seed)\n",
    "\tcv_results = model_selection.cross_val_score(model, X_train_new, y_train, cv=kfold, scoring=scoring)\n",
    "\tresults.append(cv_results.mean())\n",
    "\tnames.append(name)\n",
    "\tmsg = \"%s: %f (%f)\" % (name, cv_results.mean(), cv_results.std())\n",
    "\tprint(msg)"
   ]
  },
  {
   "cell_type": "markdown",
   "metadata": {},
   "source": [
    "Selected the best classifier model"
   ]
  },
  {
   "cell_type": "code",
   "execution_count": 74,
   "metadata": {},
   "outputs": [
    {
     "data": {
      "text/plain": [
       "'LDA'"
      ]
     },
     "execution_count": 74,
     "metadata": {},
     "output_type": "execute_result"
    }
   ],
   "source": [
    "best_model_idx = results.index(max(results))\n",
    "best_model = models[best_model_idx]\n",
    "best_model[0]"
   ]
  },
  {
   "cell_type": "markdown",
   "metadata": {},
   "source": [
    "Transform the validation input data to reduce the number of features\n",
    "We will use our modellsvc to do the feature selection here"
   ]
  },
  {
   "cell_type": "code",
   "execution_count": 75,
   "metadata": {},
   "outputs": [
    {
     "data": {
      "text/plain": [
       "(84, 11)"
      ]
     },
     "execution_count": 75,
     "metadata": {},
     "output_type": "execute_result"
    }
   ],
   "source": [
    "X_validation_new = modellsvc.transform(X_validation)\n",
    "X_validation_new.shape"
   ]
  },
  {
   "cell_type": "markdown",
   "metadata": {},
   "source": [
    "### Make the predictions on validation data\n",
    "Finally, we evaluate the accuracy of our proposed model making the predictions of X_validation_new"
   ]
  },
  {
   "cell_type": "code",
   "execution_count": 76,
   "metadata": {},
   "outputs": [
    {
     "data": {
      "text/plain": [
       "0.97619047619047616"
      ]
     },
     "execution_count": 76,
     "metadata": {},
     "output_type": "execute_result"
    }
   ],
   "source": [
    "best_model[1].fit(X_train_new, y_train)\n",
    "predictions = best_model[1].predict(X_validation_new)\n",
    "accuracy_score(y_validation, predictions)"
   ]
  }
 ],
 "metadata": {
  "kernelspec": {
   "display_name": "Python 3",
   "language": "python",
   "name": "python3"
  },
  "language_info": {
   "codemirror_mode": {
    "name": "ipython",
    "version": 3
   },
   "file_extension": ".py",
   "mimetype": "text/x-python",
   "name": "python",
   "nbconvert_exporter": "python",
   "pygments_lexer": "ipython3",
   "version": "3.6.3"
  }
 },
 "nbformat": 4,
 "nbformat_minor": 2
}
